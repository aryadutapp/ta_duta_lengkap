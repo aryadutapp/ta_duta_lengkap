{
 "cells": [
  {
   "cell_type": "code",
   "execution_count": null,
   "id": "d3fea92b-6440-4213-aeb4-5fe7c479dab0",
   "metadata": {},
   "outputs": [],
   "source": [
    "from unsloth import FastLanguageModel\n",
    "import torch\n",
    "from trl import SFTTrainer\n",
    "from transformers import TrainingArguments\n",
    "from datasets import load_dataset\n",
    "max_seq_length = 2048 # Supports RoPE Scaling interally, so choose any!"
   ]
  },
  {
   "cell_type": "code",
   "execution_count": null,
   "id": "430c2b69",
   "metadata": {},
   "outputs": [],
   "source": [
    "alpaca_prompt = \"\"\"Di bawah ini adalah instruksi yang menggambarkan sebuah tugas dengan input yang memberikan konteks lebih lanjut. Tuliskan respons yang tepat untuk menyelesaikan permintaan tersebut.\n",
    "\n",
    "### Instruksi:\n",
    "{}\n",
    "\n",
    "### Input:\n",
    "{}\n",
    "\n",
    "### Response:\n",
    "{}\"\"\""
   ]
  },
  {
   "cell_type": "code",
   "execution_count": null,
   "id": "2521260b",
   "metadata": {},
   "outputs": [],
   "source": [
    "model, tokenizer = FastLanguageModel.from_pretrained(\n",
    "    model_name = \"Aryaduta/modellora9\", # or Change to your own model from HuggingFace\n",
    "    max_seq_length = max_seq_length,\n",
    "    dtype = None,\n",
    ")"
   ]
  },
  {
   "cell_type": "code",
   "execution_count": null,
   "id": "0dc6ffe2",
   "metadata": {},
   "outputs": [],
   "source": [
    "full_instruction = \"\"\"\n",
    "Objektif: Tugas anda adalah menghasilkan urutan respons JSON untuk merencanakan tindakan lengan robot berdasarkan input pengguna. Jika tujuan tidak dapat dicapai dengan menggunakan instruksi yang disediakan dan objek yang tersedia, kembalikan pesan kesalahan.\n",
    "    \n",
    "Berikan objek JSON yang mengandung array \"actions\", diidentifikasi dengan key \"actions\".\n",
    "    \n",
    "Setiap aksi harus direpresentasikan sebagai objek dengan \"command\" dan \"parameters\" yang sesuai\n",
    "    \n",
    "Objek dan Koordinat yang Tersedia:\n",
    "{object_context}\n",
    "    \n",
    "Perintah yang Tersedia:\n",
    "1. move: Gerakkan lengan robot ke arah tertentu. Sertakan parameter \"direction\" dengan nilai \"atas\", \"bawah\", \"depan\", \"belakang\", \"kiri\", atau \"kanan\".\n",
    "2. move_to: Gerakkan lengan robot ke koordinat tertentu. Sertakan parameter \"x\", \"y\", dan \"z\" untuk menentukan koordinat tujuan.\n",
    "3. suction_cup: Aktifkan atau nonaktifkan cup hisap. Gunakan parameter \"action\" dengan nilai \"on\" atau \"off\".\n",
    "5. err_msg: Kembalikan pesan kesalahan jika tujuan pengguna tidak dapat tercapai dengan menggunakan objek dan perintah saat ini. Gunakan parameter \"msg\" dengan nilai \"tidak dapat membuat rencana aksi dengan kondisi terkini\".\n",
    "    \n",
    "Contoh Penggunaan Perintah:\n",
    "{{\"actions\":[{{\"command\":\"move\",\"parameters\":{{\"direction\":\"up\"}}}},{{\"command\":\"move_to\",\"parameters\":{{\"x\":-265.56,\"y\":196.34,\"z\":-50}}}},{{\"command\":\"suction_cup\",\"parameters\":{{\"action\":\"on\"}}}},{{\"command\":\"err_msg\",\"parameters\":{{\"msg\":\"tidak dapat membuat rencana aksi dengan kondisi terkini\"}}}}]}}\n",
    "    \n",
    "Instruksi Penggunaan:\n",
    "1. Untuk memindahkan objek yang tersedia ke koordinat tertentu, aktifkan penyedot terlebih dahulu menggunakan perintah \"suction_cup\" dengan \"action\" diatur ke \"on\", kemudian gerakkan ke koordinat objek menggunakan perintah \"move_to\".\n",
    "2. Berikan koordinat penempatan untuk tujuan pengguna menggunakan perintah \"move_to\" sesuai dengan koordinat yang diberikan pengguna atau koordinat objek yang disediakan. Jangan lupa untuk menambahkan tanda negati\n",
    "3. Untuk melepaskan objek setelah menggunakan penyedot, nonaktifkan penyedot terlebih dahulu menggunakan perintah \"suction_cup\" dengan \"action\" diatur ke \"off\".\n",
    "4. Untuk memindahkan robot secara lateral (misalnya, ke kiri atau kanan), gunakan perintah \"move\" dengan arah yang sesuai.\n",
    "5. Untuk gerakan lateral objek (kiri atau kanan), pertama-tama gerakkan lengan robot ke koordinat objek menggunakan perintah \"move_to\", kemudian gunakan perintah \"move\" dengan arah yang sesuai.\n",
    "6. Jika tujuan pengguna tidak dapat tercapai dengan perintah dan objek saat ini, gunakan perintah \"err_msg\".\n",
    "\"\"\"\n",
    "\n",
    "def inferrence(input_context, object_context):\n",
    "    # Enable native 2x faster inference\n",
    "    FastLanguageModel.for_inference(model)\n",
    "\n",
    "    full_instruction2 = full_instruction.format(object_context=object_context)\n",
    "\n",
    "    \n",
    "    # Prepare inputs\n",
    "    inputs = tokenizer(\n",
    "        [\n",
    "            alpaca_prompt.format(\n",
    "                full_instruction2,\n",
    "            input_context,  # input\n",
    "            \"\",  # output - leave this blank for generation!\n",
    "        )\n",
    "        ],\n",
    "        return_tensors=\"pt\"\n",
    "    ).to(\"cuda\")\n",
    "    \n",
    "    # Generate outputs\n",
    "    outputs = model.generate(**inputs, max_new_tokens=1024, use_cache=True)\n",
    "    \n",
    "    # Decode output and extract JSON response\n",
    "    decoded_output = tokenizer.batch_decode(outputs)[0]\n",
    "    \n",
    "    # Find the start and end indices for the JSON response\n",
    "    start_marker = \"### Response:\"\n",
    "    end_marker = \"<eos>\"\n",
    "    start_index = decoded_output.find(start_marker) + len(start_marker)\n",
    "    end_index = decoded_output.find(end_marker, start_index)\n",
    "    \n",
    "    # Extract the JSON response\n",
    "    json_response = decoded_output[start_index:end_index].strip()\n",
    "    \n",
    "    # Print the JSON response\n",
    "    print(json_response)\n",
    "\n",
    "    # return the JSON response\n",
    "    return json_response"
   ]
  },
  {
   "cell_type": "code",
   "execution_count": null,
   "id": "78b1019b",
   "metadata": {},
   "outputs": [],
   "source": [
    "object_context = \"\"\" \n",
    "1. Balok ungu = (-86.59, 117.21, -122.30)\n",
    "2. Balok kuning = (-168.94, -129.37, -68)\n",
    "3. Balok biru = (152.76, 158.92, 6)\n",
    "\"\"\"\n",
    "\n",
    "input_context = \"geser balok biru ke kanan\"\n",
    "\n",
    "inferrence(input_context, object_context)"
   ]
  }
 ],
 "metadata": {
  "kernelspec": {
   "display_name": "my-env",
   "language": "python",
   "name": "my-env"
  },
  "language_info": {
   "codemirror_mode": {
    "name": "ipython",
    "version": 3
   },
   "file_extension": ".py",
   "mimetype": "text/x-python",
   "name": "python",
   "nbconvert_exporter": "python",
   "pygments_lexer": "ipython3",
   "version": "3.10.12"
  }
 },
 "nbformat": 4,
 "nbformat_minor": 5
}
